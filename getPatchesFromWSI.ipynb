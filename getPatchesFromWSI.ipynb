{
 "cells": [
  {
   "cell_type": "code",
   "execution_count": 1,
   "metadata": {
    "collapsed": false
   },
   "outputs": [],
   "source": [
    "from glob import glob\n",
    "\n",
    "import cmath\n",
    "import matplotlib.pyplot as plt  \n",
    "import matplotlib as mpl  \n",
    "import numpy as np  \n",
    "import openslide  \n",
    "from openslide import open_slide  \n",
    "from openslide.deepzoom import DeepZoomGenerator  \n",
    "import pandas as pd\n",
    "\n",
    "from skimage.color import rgb2gray \n",
    "from skimage import color, morphology, filters, exposure, feature\n",
    "import cv2\n",
    "from scipy import ndimage\n",
    "from PIL import Image"
   ]
  },
  {
   "cell_type": "code",
   "execution_count": null,
   "metadata": {
    "collapsed": false
   },
   "outputs": [],
   "source": [
    "# Get tiles from tissue region only\n",
    "\n",
    "# Use OTSU threshold value from entire image ( level = 8) \n",
    "# use this threshold value to get foreground image at each tile at level_count -2\n",
    "\n",
    "files = glob(\"Data/Stage4/*.svs\")  \n",
    "numSlide = 1;\n",
    "for file in files:\n",
    "    slide = open_slide(file)\n",
    "    tile_size = 256\n",
    "    tiles = DeepZoomGenerator(slide, tile_size=tile_size, overlap=0, limit_bounds=False)  \n",
    "    \n",
    "    # Get mask for entire slide. Identify tissue region\n",
    "    level = 8\n",
    "    \n",
    "    tile = tiles.get_tile(level, (0,0))\n",
    "            \n",
    "    threshold_value = filters.threshold_otsu(np.array(tile))\n",
    "            \n",
    "    level = tiles.level_count - 2\n",
    "    for i in range(tiles.level_tiles[level][0]):\n",
    "        for j in range(tiles.level_tiles[level][1]):\n",
    "            tile = tiles.get_tile(level, (i,j))\n",
    "            tile_otsu = tile >= threshold_value\n",
    "            tile_filter = ndimage.filters.median_filter(tile_otsu, size = 3)\n",
    "\n",
    "            kernel = np.ones((10,10))\n",
    "            tile_filter = cv2.dilate(tile_filter.astype(np.float32),kernel,iterations =1)\n",
    "            tile_filter = cv2.erode(tile_filter.astype(np.float32),kernel,iterations =1)\n",
    "\n",
    "            lower = np.array([0,0,0])\n",
    "            upper = np.array([200,0,200])\n",
    "            mask = cv2.inRange(tile_filter, lower, upper)\n",
    "            mask = np.repeat(mask[:, :, np.newaxis], 3, axis=2)\n",
    "            \n",
    "            ratio = float(np.sum(mask==255)) / (256*256*3)\n",
    "            \n",
    "            if ratio > 0.5:\n",
    "                tile.save('tiles/Stage4/tileStage4Slide' + str(numSlide) + \"-\" + str(i) + \"-\" + str(j) + \".png\" , \"png\")\n",
    "        \n",
    "            \n",
    "   \n",
    "    numSlide = numSlide + 1\n",
    "   \n",
    "    \n",
    "    "
   ]
  },
  {
   "cell_type": "code",
   "execution_count": null,
   "metadata": {
    "collapsed": true
   },
   "outputs": [],
   "source": []
  }
 ],
 "metadata": {
  "kernelspec": {
   "display_name": "Python 2",
   "language": "python",
   "name": "python2"
  },
  "language_info": {
   "codemirror_mode": {
    "name": "ipython",
    "version": 2
   },
   "file_extension": ".py",
   "mimetype": "text/x-python",
   "name": "python",
   "nbconvert_exporter": "python",
   "pygments_lexer": "ipython2",
   "version": "2.7.12"
  }
 },
 "nbformat": 4,
 "nbformat_minor": 1
}
